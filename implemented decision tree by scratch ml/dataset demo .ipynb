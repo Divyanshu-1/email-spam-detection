{
 "cells": [
  {
   "cell_type": "code",
   "execution_count": 1,
   "id": "bcb6c96e",
   "metadata": {},
   "outputs": [],
   "source": [
    "from sklearn import datasets\n",
    "from sklearn.model_selection import train_test_split\n",
    "import numpy as np"
   ]
  },
  {
   "cell_type": "code",
   "execution_count": 2,
   "id": "5bf2697a",
   "metadata": {},
   "outputs": [],
   "source": [
    "data = datasets.load_breast_cancer()\n",
    "X, y = data.data, data.target\n",
    "\n",
    "X_train, X_test, y_train, y_test = train_test_split(\n",
    "    X, y, test_size=0.2, random_state=1234\n",
    ")\n",
    "\n"
   ]
  },
  {
   "cell_type": "code",
   "execution_count": 10,
   "id": "43ed73cf",
   "metadata": {},
   "outputs": [
    {
     "data": {
      "text/plain": [
       "array([[1.167e+01, 2.002e+01, 7.521e+01, ..., 8.120e-02, 3.206e-01,\n",
       "        8.950e-02],\n",
       "       [1.080e+01, 9.710e+00, 6.877e+01, ..., 4.603e-02, 2.090e-01,\n",
       "        7.699e-02],\n",
       "       [1.245e+01, 1.641e+01, 8.285e+01, ..., 1.342e-01, 3.231e-01,\n",
       "        1.034e-01],\n",
       "       ...,\n",
       "       [1.327e+01, 1.476e+01, 8.474e+01, ..., 1.001e-01, 2.027e-01,\n",
       "        6.206e-02],\n",
       "       [1.343e+01, 1.963e+01, 8.584e+01, ..., 1.160e-01, 2.884e-01,\n",
       "        7.371e-02],\n",
       "       [2.742e+01, 2.627e+01, 1.869e+02, ..., 2.625e-01, 2.641e-01,\n",
       "        7.427e-02]])"
      ]
     },
     "execution_count": 10,
     "metadata": {},
     "output_type": "execute_result"
    }
   ],
   "source": [
    "X_test"
   ]
  },
  {
   "cell_type": "code",
   "execution_count": null,
   "id": "f6c34049",
   "metadata": {},
   "outputs": [],
   "source": []
  }
 ],
 "metadata": {
  "kernelspec": {
   "display_name": "Python 3 (ipykernel)",
   "language": "python",
   "name": "python3"
  },
  "language_info": {
   "codemirror_mode": {
    "name": "ipython",
    "version": 3
   },
   "file_extension": ".py",
   "mimetype": "text/x-python",
   "name": "python",
   "nbconvert_exporter": "python",
   "pygments_lexer": "ipython3",
   "version": "3.9.6"
  }
 },
 "nbformat": 4,
 "nbformat_minor": 5
}
